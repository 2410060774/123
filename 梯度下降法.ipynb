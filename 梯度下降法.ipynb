{
 "cells": [
  {
   "cell_type": "markdown",
   "metadata": {},
   "source": [
    "$\\theta=\\theta-\\eta*\\nabla{J}(\\theta)$\n",
    "\n"
   ]
  },
  {
   "cell_type": "code",
   "execution_count": null,
   "metadata": {},
   "outputs": [],
   "source": [
    "import numpy as np\n",
    "import matplotlib.pyplot as plt"
   ]
  },
  {
   "cell_type": "code",
   "execution_count": null,
   "metadata": {},
   "outputs": [],
   "source": [
    "plot_x=np.linspace(-1,6,150)\n",
    "plot_y=(plot_x-2.5)**2-1\n",
    "plt.plot(plot_x,plot_y);"
   ]
  },
  {
   "cell_type": "code",
   "execution_count": null,
   "metadata": {},
   "outputs": [],
   "source": [
    "\n",
    "def J(theta):\n",
    "    return (theta-2.5)**2-1"
   ]
  },
  {
   "cell_type": "code",
   "execution_count": null,
   "metadata": {},
   "outputs": [],
   "source": [
    "def dJ(theta):\n",
    "    return 2*(theta-2.5)"
   ]
  },
  {
   "cell_type": "code",
   "execution_count": null,
   "metadata": {},
   "outputs": [],
   "source": [
    "theta=0\n",
    "eta=0.1\n",
    "epsilon=1e-8\n",
    "while True:\n",
    "    gradient=dJ(theta)\n",
    "    last_theta=theta\n",
    "    theta=theta-eta*gradient\n",
    "    if(abs(J(theta)-J(last_theta))<epsilon):\n",
    "        break\n",
    "print(theta) \n",
    "print(J(theta))"
   ]
  },
  {
   "cell_type": "code",
   "execution_count": null,
   "metadata": {},
   "outputs": [],
   "source": [
    "theta=0\n",
    "theta_history=[theta]\n",
    "while True:\n",
    "    gradient=dJ(theta)\n",
    "    last_theta=theta\n",
    "    theta=theta-eta*gradient\n",
    "    theta_history.append(theta)\n",
    "    if(abs(J(theta)-J(last_theta))<epsilon):\n",
    "        break"
   ]
  },
  {
   "cell_type": "code",
   "execution_count": null,
   "metadata": {},
   "outputs": [],
   "source": [
    "plt.plot(plot_x,J(plot_x));\n",
    "plt.plot(np.array(theta_history),J(np.array(theta_history)),c='r',marker='+');"
   ]
  },
  {
   "cell_type": "code",
   "execution_count": null,
   "metadata": {},
   "outputs": [],
   "source": [
    "len(theta_history)"
   ]
  },
  {
   "cell_type": "code",
   "execution_count": null,
   "metadata": {},
   "outputs": [],
   "source": [
    "def gradient_descent(initial_theta,ets,n_itiers=1e3,epsilon=1e-8):\n",
    "    theta=initial_theta\n",
    "    i_iter=0\n",
    "    theta_history.append(initial_theta)\n",
    "    \n",
    "    while i_iter<n_itiers:\n",
    "        gradient=dJ(theta)\n",
    "        last_theta=theta\n",
    "        theta=theta-eta*gradient\n",
    "        theta_history.append(theta)\n",
    "        \n",
    "        if(abs(J(theta)-J(last_theta))<epsilon):\n",
    "            break\n",
    "        i_iter+=1\n",
    "    return\n",
    "        "
   ]
  },
  {
   "cell_type": "code",
   "execution_count": null,
   "metadata": {},
   "outputs": [],
   "source": [
    "def plot_theta_history():\n",
    "    plt.plot(plot_x,J(plot_x));\n",
    "    plt.plot(np.array(theta_history),J(np.array(theta_history)),c='r',marker='+')"
   ]
  },
  {
   "cell_type": "code",
   "execution_count": null,
   "metadata": {},
   "outputs": [],
   "source": [
    "eta=0.01\n",
    "theta_history=[]\n",
    "gradient_descent(0,eta)\n",
    "plot_theta_history();"
   ]
  },
  {
   "cell_type": "code",
   "execution_count": null,
   "metadata": {},
   "outputs": [],
   "source": [
    "len(theta_history)"
   ]
  },
  {
   "cell_type": "code",
   "execution_count": null,
   "metadata": {},
   "outputs": [],
   "source": [
    "eta=1.5\n",
    "theta_history=[]\n",
    "gradient_descent(0,eta)\n",
    "plot_theta_history();"
   ]
  },
  {
   "cell_type": "code",
   "execution_count": null,
   "metadata": {},
   "outputs": [],
   "source": [
    "len(theta_history)"
   ]
  },
  {
   "cell_type": "code",
   "execution_count": null,
   "metadata": {},
   "outputs": [],
   "source": [
    "def J(theta):\n",
    "    try:\n",
    "        return (theta-2.5)**2-1\n",
    "    except:\n",
    "        return float('inf')"
   ]
  },
  {
   "cell_type": "code",
   "execution_count": null,
   "metadata": {},
   "outputs": [],
   "source": []
  }
 ],
 "metadata": {
  "kernelspec": {
   "display_name": "Python 3",
   "language": "python",
   "name": "python3"
  },
  "language_info": {
   "codemirror_mode": {
    "name": "ipython",
    "version": 3
   },
   "file_extension": ".py",
   "mimetype": "text/x-python",
   "name": "python",
   "nbconvert_exporter": "python",
   "pygments_lexer": "ipython3",
   "version": "3.7.0"
  }
 },
 "nbformat": 4,
 "nbformat_minor": 2
}
